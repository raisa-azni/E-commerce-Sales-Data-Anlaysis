{
 "cells": [
  {
   "cell_type": "code",
   "execution_count": 13,
   "metadata": {},
   "outputs": [
    {
     "ename": "ModuleNotFoundError",
     "evalue": "No module named 'pyspark'",
     "output_type": "error",
     "traceback": [
      "\u001b[1;31m---------------------------------------------------------------------------\u001b[0m",
      "\u001b[1;31mModuleNotFoundError\u001b[0m                       Traceback (most recent call last)",
      "Cell \u001b[1;32mIn[13], line 12\u001b[0m\n\u001b[0;32m      9\u001b[0m \u001b[38;5;28;01mimport\u001b[39;00m \u001b[38;5;21;01mlogging\u001b[39;00m\n\u001b[0;32m     11\u001b[0m \u001b[38;5;66;03m# Third-party imports\u001b[39;00m\n\u001b[1;32m---> 12\u001b[0m \u001b[38;5;28;01mfrom\u001b[39;00m \u001b[38;5;21;01mpyspark\u001b[39;00m\u001b[38;5;21;01m.\u001b[39;00m\u001b[38;5;21;01msql\u001b[39;00m \u001b[38;5;28;01mimport\u001b[39;00m SparkSession\n\u001b[0;32m     13\u001b[0m \u001b[38;5;28;01mfrom\u001b[39;00m \u001b[38;5;21;01mpyspark\u001b[39;00m\u001b[38;5;21;01m.\u001b[39;00m\u001b[38;5;21;01msql\u001b[39;00m\u001b[38;5;21;01m.\u001b[39;00m\u001b[38;5;21;01mfunctions\u001b[39;00m \u001b[38;5;28;01mimport\u001b[39;00m (\n\u001b[0;32m     14\u001b[0m     col,\n\u001b[0;32m     15\u001b[0m     lit,\n\u001b[0;32m     16\u001b[0m     expr,\n\u001b[0;32m     17\u001b[0m )\n\u001b[0;32m     18\u001b[0m \u001b[38;5;28;01mfrom\u001b[39;00m \u001b[38;5;21;01mpyspark\u001b[39;00m\u001b[38;5;21;01m.\u001b[39;00m\u001b[38;5;21;01msql\u001b[39;00m\u001b[38;5;21;01m.\u001b[39;00m\u001b[38;5;21;01mtypes\u001b[39;00m \u001b[38;5;28;01mimport\u001b[39;00m (\n\u001b[0;32m     19\u001b[0m     StructType,\n\u001b[0;32m     20\u001b[0m     StructField,\n\u001b[1;32m   (...)\u001b[0m\n\u001b[0;32m     24\u001b[0m     DateType,\n\u001b[0;32m     25\u001b[0m )\n",
      "\u001b[1;31mModuleNotFoundError\u001b[0m: No module named 'pyspark'"
     ]
    }
   ],
   "source": [
    "# This script is a straightforward PySpark ETL pipeline illustrating how to read CSV data, clean it, perform a couple of transformations, and save the output in a single file for downstream use\n",
    "\n",
    "import logging\n",
    "from pyspark.sql import SparkSession\n",
    "from pyspark.sql.functions import col, lit, expr\n",
    "from pyspark.sql.types import StructType, StructField, IntegerType, FloatType, StringType, DateType\n"
   ]
  },
  {
   "cell_type": "code",
   "execution_count": 2,
   "metadata": {},
   "outputs": [],
   "source": [
    "\n",
    "# Configure logging\n",
    "logging.basicConfig(level=logging.INFO, format='%(asctime)s - %(levelname)s - %(message)s')\n",
    "\n",
    "def run_etl(input_path='data/ecommerce_sales.csv', output_path='data/transformed_ecommerce_sales.csv'):\n",
    "    \"\"\"\n",
    "    Reads CSV data using PySpark, cleans and transforms it, and then writes the result to another CSV file.\n",
    "    \"\"\"\n",
    "\n",
    "    # 1. Create SparkSession\n",
    "    spark = SparkSession.builder \\\n",
    "        .appName(\"EcommerceSalesETL\") \\\n",
    "        .getOrCreate()\n",
    "\n",
    "    logging.info(\"SparkSession created successfully.\")\n",
    "\n",
    "    # 2. Define a schema (optional, but good practice for large/real-world data)\n",
    "    schema = StructType([\n",
    "        StructField(\"order_id\", IntegerType(), True),\n",
    "        StructField(\"customer_id\", IntegerType(), True),\n",
    "        StructField(\"order_date\", StringType(), True),\n",
    "        StructField(\"product_id\", IntegerType(), True),\n",
    "        StructField(\"quantity\", IntegerType(), True),\n",
    "        StructField(\"unit_price\", FloatType(), True),\n",
    "        StructField(\"region\", StringType(), True)\n",
    "    ])\n",
    "\n",
    "    # 3. Read the CSV file\n",
    "    try:\n",
    "        df = spark.read.csv(input_path, header=True, schema=schema)\n",
    "        logging.info(f\"Data loaded from {input_path}.\")\n",
    "    except Exception as e:\n",
    "        logging.error(f\"Failed to read data from {input_path}.\", exc_info=True)\n",
    "        spark.stop()\n",
    "        return\n",
    "\n",
    "    # 4. Data Cleaning\n",
    "    # Convert order_date to DateType\n",
    "    df = df.withColumn(\"order_date\", col(\"order_date\").cast(DateType()))\n",
    "\n",
    "    # Drop rows with null values (simple approach)\n",
    "    df_clean = df.dropna()\n",
    "\n",
    "    # Remove duplicates based on order_id (as an example)\n",
    "    df_clean = df_clean.dropDuplicates([\"order_id\"])\n",
    "\n",
    "    logging.info(\"Data cleaning steps completed.\")\n",
    "\n",
    "    # 5. Data Transformation\n",
    "    # Calculate total_sale = quantity * unit_price\n",
    "    df_transformed = df_clean.withColumn(\"total_sale\", col(\"quantity\") * col(\"unit_price\"))\n",
    "\n",
    "    # Extract month from order_date\n",
    "    df_transformed = df_transformed.withColumn(\"month\", expr(\"month(order_date)\"))\n",
    "\n",
    "    logging.info(\"Data transformation steps completed.\")\n",
    "\n",
    "    # 6. Write the transformed data back to CSV\n",
    "    # Note: Using coalesce(1) just to have a single CSV file output for simplicity\n",
    "    try:\n",
    "        df_transformed.coalesce(1).write.csv(output_path, header=True, mode=\"overwrite\")\n",
    "        logging.info(f\"Transformed data written to {output_path}.\")\n",
    "    except Exception as e:\n",
    "        logging.error(f\"Failed to write data to {output_path}.\", exc_info=True)\n",
    "\n",
    "    # 7. Stop the SparkSession\n",
    "    spark.stop()\n",
    "\n",
    "    "
   ]
  },
  {
   "cell_type": "code",
   "execution_count": 3,
   "metadata": {},
   "outputs": [
    {
     "name": "stderr",
     "output_type": "stream",
     "text": [
      "2025-02-12 21:10:29,343 - INFO - SparkSession created successfully.\n",
      "2025-02-12 21:10:30,451 - INFO - Data loaded from data/ecommerce_sales.csv.\n",
      "2025-02-12 21:10:30,557 - INFO - Data cleaning steps completed.\n",
      "2025-02-12 21:10:30,642 - INFO - Data transformation steps completed.\n",
      "2025-02-12 21:10:36,753 - INFO - Transformed data written to data/transformed_ecommerce_sales.csv.\n"
     ]
    }
   ],
   "source": [
    "run_etl()"
   ]
  }
 ],
 "metadata": {
  "kernelspec": {
   "display_name": "Python 3 (ipykernel)",
   "language": "python",
   "name": "python3"
  },
  "language_info": {
   "codemirror_mode": {
    "name": "ipython",
    "version": 3
   },
   "file_extension": ".py",
   "mimetype": "text/x-python",
   "name": "python",
   "nbconvert_exporter": "python",
   "pygments_lexer": "ipython3",
   "version": "3.12.7"
  }
 },
 "nbformat": 4,
 "nbformat_minor": 4
}
